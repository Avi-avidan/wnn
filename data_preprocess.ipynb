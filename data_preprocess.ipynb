{
 "cells": [
  {
   "cell_type": "code",
   "execution_count": 2,
   "metadata": {
    "collapsed": true
   },
   "outputs": [],
   "source": [
    "import dexplor_utils\n",
    "import prep2_utils\n",
    "%matplotlib inline"
   ]
  },
  {
   "cell_type": "code",
   "execution_count": 3,
   "metadata": {},
   "outputs": [
    {
     "name": "stdout",
     "output_type": "stream",
     "text": [
      "\n",
      "name: train, rows: 10506, columns: 12, null values: 0\n",
      "\n",
      "name: spray, rows: 14835, columns: 4, null values: 584\n",
      "\n",
      "name: weather, rows: 2944, columns: 22, null values: 0\n",
      "\n",
      "name: test, rows: 116293, columns: 11, null values: 0\n",
      "\n",
      "name: enrich, rows: 27196, columns: 13, null values: 12324\n",
      "\n",
      "name: train, date range: 2007-05-29 - 2013-09-26\n",
      "\n",
      "name: spray, date range: 2011-08-29 - 2013-09-05\n",
      "\n",
      "name: weather, date range: 2007-05-01 - 2014-10-31\n",
      "\n",
      "name: test, date range: 2008-06-11 - 2014-10-02\n",
      "\n",
      "name: enrich, date range: 05/28/2009 12:05:00 AM - 10/09/2007 12:10:00 AM\n"
     ]
    }
   ],
   "source": [
    "all_train, spray, weather, test, enrich = prep2_utils.load_data()"
   ]
  },
  {
   "cell_type": "markdown",
   "metadata": {},
   "source": [
    "#### Save labels"
   ]
  },
  {
   "cell_type": "code",
   "execution_count": null,
   "metadata": {
    "collapsed": true
   },
   "outputs": [],
   "source": [
    "y_train = all_train[['WnvPresent']]\n",
    "y_train.to_csv('y_train.csv', columns=y_train.columns.tolist())"
   ]
  },
  {
   "cell_type": "markdown",
   "metadata": {},
   "source": [
    "#### preprocess_dataset\n",
    "\n",
    "1. get relevant columns\n",
    "2. add distance from each weather station\n",
    "3. add weather features (weighted avg by dist from each station)\n",
    "4. add dummies for positive 3 strains in train set\n",
    "5. convert traps to integers\n",
    "6. add duplicate row flag \n",
    "7. add date features (day, week, month, day of week)\n",
    "8. drop irrelevant cols\n",
    "9. save"
   ]
  },
  {
   "cell_type": "markdown",
   "metadata": {},
   "source": [
    "#### add weather features and split by station"
   ]
  },
  {
   "cell_type": "code",
   "execution_count": null,
   "metadata": {
    "collapsed": true
   },
   "outputs": [],
   "source": [
    "weather = weather[prep2_utils.weather_cols]\n",
    "weather_stat1, weather_stat2 = prep2_utils.split_weather_by_station(weather)"
   ]
  },
  {
   "cell_type": "code",
   "execution_count": null,
   "metadata": {
    "collapsed": true
   },
   "outputs": [],
   "source": [
    "wnv_species = all_train[all_train['WnvPresent'] == 1].Species.unique()\n",
    "all_traps = test.Trap.unique().tolist()"
   ]
  },
  {
   "cell_type": "code",
   "execution_count": null,
   "metadata": {
    "scrolled": true
   },
   "outputs": [],
   "source": [
    "x_train = prep2_utils.preprocess_dataset(\n",
    "    all_train, 'x_train3', weather_stat1, weather_stat2, all_traps, wnv_species, spray)\n",
    "\n",
    "x_test = prep2_utils.preprocess_dataset(\n",
    "    test, 'x_test3', weather_stat1, weather_stat2, all_traps, wnv_species, spray)"
   ]
  },
  {
   "cell_type": "code",
   "execution_count": null,
   "metadata": {
    "collapsed": true
   },
   "outputs": [],
   "source": []
  },
  {
   "cell_type": "code",
   "execution_count": null,
   "metadata": {
    "collapsed": true
   },
   "outputs": [],
   "source": [
    "all_train.columns.tolist() == test.columns.tolist()"
   ]
  },
  {
   "cell_type": "code",
   "execution_count": null,
   "metadata": {
    "collapsed": true
   },
   "outputs": [],
   "source": [
    "wnv_by_year = all_train[['Date', 'Trap', 'WnvPresent']].groupby(\n",
    "        by = ['Date','Trap'])['Date','Trap','WnvPresent'].sum().reset_index().sort_values(\n",
    "        'WnvPresent', ascending = False).set_index('Date')"
   ]
  },
  {
   "cell_type": "code",
   "execution_count": null,
   "metadata": {
    "collapsed": true
   },
   "outputs": [],
   "source": [
    "plot_train = x_train.merge(all_train[['Date']], how = 'left', right_index = True, left_index = True)\n",
    "prep2_utils.plot_weather_features(plot_train, prep2_utils.weather_features, wnv_by_year)"
   ]
  },
  {
   "cell_type": "code",
   "execution_count": null,
   "metadata": {
    "collapsed": true
   },
   "outputs": [],
   "source": [
    "test_wnv_by_year = enrich[['Date', 'Trap', 'WnvPresent']].groupby(\n",
    "        by = ['Date','Trap'])['Date','Trap','WnvPresent'].sum().reset_index().sort_values(\n",
    "        'WnvPresent', ascending = False).set_index('Date')"
   ]
  },
  {
   "cell_type": "code",
   "execution_count": null,
   "metadata": {
    "collapsed": true
   },
   "outputs": [],
   "source": [
    "plot_test = x_test.merge(test[['Date']], how = 'left', right_index = True, left_index = True)\n",
    "prep2_utils.plot_weather_features(plot_test, prep2_utils.weather_features, test_wnv_by_year)"
   ]
  },
  {
   "cell_type": "code",
   "execution_count": null,
   "metadata": {
    "collapsed": true
   },
   "outputs": [],
   "source": [
    "dexplor_utils.plot_weather_features(\n",
    "    plot_train, ['Tavg', 'PrecipTotal', 'AvgSpeed', 'day_count', 'day_of_week', 'week' ,'month'])"
   ]
  },
  {
   "cell_type": "code",
   "execution_count": null,
   "metadata": {
    "collapsed": true
   },
   "outputs": [],
   "source": [
    "dexplor_utils.plot_weather_features(\n",
    "    plot_test, ['Tavg', 'PrecipTotal', 'AvgSpeed', 'day_count', 'day_of_week', 'week' ,'month'])"
   ]
  },
  {
   "cell_type": "code",
   "execution_count": null,
   "metadata": {
    "collapsed": true
   },
   "outputs": [],
   "source": [
    "weather.shape, spray.shape, x_train.shape, test.shape, y_train.shape"
   ]
  },
  {
   "cell_type": "code",
   "execution_count": null,
   "metadata": {
    "collapsed": true
   },
   "outputs": [],
   "source": [
    "test.head()"
   ]
  }
 ],
 "metadata": {
  "kernelspec": {
   "display_name": "Python(TF)",
   "language": "python",
   "name": "tf"
  },
  "language_info": {
   "codemirror_mode": {
    "name": "ipython",
    "version": 3
   },
   "file_extension": ".py",
   "mimetype": "text/x-python",
   "name": "python",
   "nbconvert_exporter": "python",
   "pygments_lexer": "ipython3",
   "version": "3.6.3"
  }
 },
 "nbformat": 4,
 "nbformat_minor": 2
}
